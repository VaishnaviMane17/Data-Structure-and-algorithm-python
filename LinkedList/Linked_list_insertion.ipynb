{
 "cells": [
  {
   "cell_type": "code",
   "execution_count": 124,
   "metadata": {},
   "outputs": [],
   "source": [
    "'''This class help in initialization of data and address part of linked list'''\n",
    "class Node:\n",
    "    def __init__(self,data):\n",
    "        self.data = data\n",
    "        self.next = None"
   ]
  },
  {
   "cell_type": "code",
   "execution_count": 125,
   "metadata": {},
   "outputs": [],
   "source": [
    "'''This class is the wrapper class which contain all the major linked list operation'''\n",
    "class Linked_list:\n",
    "    def __init__(self):\n",
    "        self.head = None\n",
    "        \n",
    "    def insertion_at_beginning(self,new_node_data):\n",
    "        new_node = Node(new_node_data)\n",
    "        \n",
    "        if self.head is None:\n",
    "            return \n",
    "        new_node.next = self.head\n",
    "        self.head = new_node\n",
    "        \n",
    "    def insertion_at_specific_position(self,index,new_node_data):\n",
    "        new_node = Node(new_node_data)\n",
    "        ptr = self.head\n",
    "        count = 1\n",
    "        while(count < index-1):\n",
    "            ptr = ptr.next\n",
    "            count+=1\n",
    "        \n",
    "        new_node.next = ptr.next\n",
    "        ptr.next = new_node\n",
    "        \n",
    "    def insertion_at_end(self,new_node_data):\n",
    "        new_node = Node(new_node_data)\n",
    "        ptr = self.head\n",
    "        while ptr.next is not None:\n",
    "            ptr = ptr.next\n",
    "        \n",
    "        ptr.next = new_node\n",
    "        \n",
    "    def print_linked_list(self):\n",
    "        ptr = self.head\n",
    "        while ptr.next is not None:\n",
    "            print(ptr.data)\n",
    "            ptr = ptr.next\n",
    "        "
   ]
  },
  {
   "cell_type": "code",
   "execution_count": 127,
   "metadata": {},
   "outputs": [
    {
     "name": "stdout",
     "output_type": "stream",
     "text": [
      "-9\n",
      "10\n",
      "9\n",
      "30\n",
      "50\n"
     ]
    }
   ],
   "source": [
    "if __name__ == \"__main__\":\n",
    "    ll = Linked_list()\n",
    "    ll.head = Node(10)\n",
    "    second  = Node(30)\n",
    "    third   = Node(50)\n",
    "\n",
    "    ll.head.next = second\n",
    "    second.next  = third\n",
    "    \n",
    "    ll.insertion_at_beginning(-9)\n",
    "    ll.insertion_at_specific_position(3,9)\n",
    "    ll.insertion_at_end(77)\n",
    "    ll.print_linked_list()"
   ]
  },
  {
   "cell_type": "code",
   "execution_count": null,
   "metadata": {},
   "outputs": [],
   "source": []
  }
 ],
 "metadata": {
  "kernelspec": {
   "display_name": "Python 3",
   "language": "python",
   "name": "python3"
  },
  "language_info": {
   "codemirror_mode": {
    "name": "ipython",
    "version": 3
   },
   "file_extension": ".py",
   "mimetype": "text/x-python",
   "name": "python",
   "nbconvert_exporter": "python",
   "pygments_lexer": "ipython3",
   "version": "3.7.3"
  }
 },
 "nbformat": 4,
 "nbformat_minor": 2
}
